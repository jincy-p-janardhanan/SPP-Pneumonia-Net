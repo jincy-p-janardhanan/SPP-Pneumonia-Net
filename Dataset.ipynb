{
  "nbformat": 4,
  "nbformat_minor": 0,
  "metadata": {
    "colab": {
      "name": "Dataset.ipynb",
      "provenance": [],
      "authorship_tag": "ABX9TyOe4nlxfqZE+m0INxUYAyOn",
      "include_colab_link": true
    },
    "kernelspec": {
      "name": "python3",
      "display_name": "Python 3"
    },
    "language_info": {
      "name": "python"
    }
  },
  "cells": [
    {
      "cell_type": "markdown",
      "metadata": {
        "id": "view-in-github",
        "colab_type": "text"
      },
      "source": [
        "<a href=\"https://colab.research.google.com/github/jincy-p-janardhanan/SPP-Pneumonia-Net/blob/ml/Dataset.ipynb\" target=\"_parent\"><img src=\"https://colab.research.google.com/assets/colab-badge.svg\" alt=\"Open In Colab\"/></a>"
      ]
    },
    {
      "cell_type": "markdown",
      "metadata": {
        "id": "q1EW_qQws1kY"
      },
      "source": [
        "# Preliminaries\n"
      ]
    },
    {
      "cell_type": "code",
      "metadata": {
        "id": "zXRX5Ggxs5ro"
      },
      "source": [
        "from google.colab import drive\n",
        "drive.mount('/content/drive')"
      ],
      "execution_count": null,
      "outputs": []
    },
    {
      "cell_type": "code",
      "metadata": {
        "id": "RKP_KKmhN2UN"
      },
      "source": [
        "import os\n",
        "import shutil"
      ],
      "execution_count": null,
      "outputs": []
    },
    {
      "cell_type": "code",
      "metadata": {
        "id": "_6L3uTpq56jl"
      },
      "source": [
        "normal = 0\n",
        "bacterial = 0\n",
        "viral = 0"
      ],
      "execution_count": null,
      "outputs": []
    },
    {
      "cell_type": "markdown",
      "metadata": {
        "id": "SWWkSNpBt1V4"
      },
      "source": [
        "# Dataset: [COVID-19 Radiography Database](https://www.kaggle.com/tawsifurrahman/covid19-radiography-database)"
      ]
    },
    {
      "cell_type": "markdown",
      "metadata": {
        "id": "_2Ko0tH81Nu3"
      },
      "source": [
        "## Download dataset"
      ]
    },
    {
      "cell_type": "code",
      "metadata": {
        "id": "1g8QGTy_tGMe"
      },
      "source": [
        "os.environ['KAGGLE_CONFIG_DIR'] = \"/content/drive/MyDrive/radiography/\""
      ],
      "execution_count": null,
      "outputs": []
    },
    {
      "cell_type": "code",
      "metadata": {
        "id": "Q88UvNa1OKyE"
      },
      "source": [
        "% cd /content/drive/MyDrive/radiography/\n",
        "% pwd"
      ],
      "execution_count": null,
      "outputs": []
    },
    {
      "cell_type": "code",
      "metadata": {
        "id": "5cB2F12HP1-4"
      },
      "source": [
        "! kaggle datasets download -d tawsifurrahman/covid19-radiography-database"
      ],
      "execution_count": null,
      "outputs": []
    },
    {
      "cell_type": "code",
      "metadata": {
        "id": "8p-p1e1YQWCo"
      },
      "source": [
        "!unzip \\*.zip && rm *.zip"
      ],
      "execution_count": null,
      "outputs": []
    },
    {
      "cell_type": "markdown",
      "metadata": {
        "id": "7CnGlisHxtCm"
      },
      "source": [
        "## Copy Images"
      ]
    },
    {
      "cell_type": "markdown",
      "metadata": {
        "id": "cjdg-1Qp2mEq"
      },
      "source": [
        "Copy normal images to main_project/normal"
      ]
    },
    {
      "cell_type": "code",
      "metadata": {
        "id": "ukRsfBYd2lGl"
      },
      "source": [
        "normal_folder = '/content/drive/MyDrive/radiography/COVID-19_Radiography_Dataset/Normal'"
      ],
      "execution_count": null,
      "outputs": []
    },
    {
      "cell_type": "code",
      "metadata": {
        "id": "2edOUWJJ3O-Q"
      },
      "source": [
        "# change working directory before copying files\n",
        "% cd '/content/drive/MyDrive/radiography/COVID-19_Radiography_Dataset/Normal'\n",
        "! pwd"
      ],
      "execution_count": null,
      "outputs": []
    },
    {
      "cell_type": "code",
      "metadata": {
        "id": "GJ6xvUiv3fuQ"
      },
      "source": [
        "files = os.listdir(normal_folder)\n",
        "for f in files:\n",
        "  if 'Normal' in f and normal < 2780:\n",
        "    normal += 1\n",
        "    shutil.copy(normal_folder+f,'/content/drive/MyDrive/main_project/Normal')\n",
        "print(\"normal: \", normal, \"\\t bacterial: \", bacterial, \"\\t viral: \", viral)"
      ],
      "execution_count": null,
      "outputs": []
    },
    {
      "cell_type": "markdown",
      "metadata": {
        "id": "3P8hPKCKvZCJ"
      },
      "source": [
        "Copy viral pneumonia images to main_project/Viral"
      ]
    },
    {
      "cell_type": "code",
      "metadata": {
        "id": "8RpP1RS7ujrF"
      },
      "source": [
        "viral_folder = '/content/drive/MyDrive/radiography/COVID-19_Radiography_Dataset/Viral Pneumonia'"
      ],
      "execution_count": null,
      "outputs": []
    },
    {
      "cell_type": "code",
      "metadata": {
        "id": "ajot-ENU4rlZ"
      },
      "source": [
        "% cd '/content/drive/MyDrive/radiography/COVID-19_Radiography_Dataset/Viral Pneumonia'\n",
        "! pwd"
      ],
      "execution_count": null,
      "outputs": []
    },
    {
      "cell_type": "code",
      "metadata": {
        "id": "QPKqQNF8Sm0Q"
      },
      "source": [
        "files = os.listdir(viral_folder)\n",
        "for f in files:\n",
        "  if 'Viral' in f and viral < 2780:\n",
        "    viral += 1\n",
        "    shutil.copy(pneumonia_folder+f,'/content/drive/MyDrive/main_project/Viral')"
      ],
      "execution_count": null,
      "outputs": []
    },
    {
      "cell_type": "markdown",
      "metadata": {
        "id": "rfuebZ0_wT7m"
      },
      "source": [
        "# Dataset: [Chest X-ray Images Pneumonia](https://www.kaggle.com/paultimothymooney/chest-xray-pneumonia)"
      ]
    },
    {
      "cell_type": "markdown",
      "metadata": {
        "id": "rJTsVDbT0-Mk"
      },
      "source": [
        "## Download dataset"
      ]
    },
    {
      "cell_type": "code",
      "metadata": {
        "id": "kkQQGQjMwTYZ"
      },
      "source": [
        "os.environ['KAGGLE_CONFIG_DIR'] = \"/content/drive/MyDrive/paultimothymooney/\""
      ],
      "execution_count": null,
      "outputs": []
    },
    {
      "cell_type": "code",
      "metadata": {
        "id": "63vu3LXHxLzw"
      },
      "source": [
        "% cd /content/drive/MyDrive/paultimothymooney/\n",
        "% pwd"
      ],
      "execution_count": null,
      "outputs": []
    },
    {
      "cell_type": "code",
      "metadata": {
        "id": "a1I-bpMoxGGr"
      },
      "source": [
        "! kaggle datasets download -d paultimothymooney/chest-xray-pneumonia"
      ],
      "execution_count": null,
      "outputs": []
    },
    {
      "cell_type": "code",
      "metadata": {
        "id": "gB0AXEeyyE51"
      },
      "source": [
        "!unzip \\*.zip && rm *.zip"
      ],
      "execution_count": null,
      "outputs": []
    },
    {
      "cell_type": "markdown",
      "metadata": {
        "id": "g7owGZPCzHcp"
      },
      "source": [
        "## Copy Images"
      ]
    },
    {
      "cell_type": "markdown",
      "metadata": {
        "id": "edjmbTWbzDV_"
      },
      "source": [
        "Copy bacterial and viral pneumonia images from train folder to main_project/Bacterial and main_project/Viral"
      ]
    },
    {
      "cell_type": "code",
      "metadata": {
        "id": "M6IPc8SLzO_P"
      },
      "source": [
        "pneumonia_folder = '/content/drive/MyDrive/paultimothymooney/chest_xray/train/PNEUMONIA/'"
      ],
      "execution_count": null,
      "outputs": []
    },
    {
      "cell_type": "code",
      "metadata": {
        "id": "p6Qr_f961iSH"
      },
      "source": [
        "% cd /content/drive/MyDrive/paultimothymooney/chest_xray/train/PNEUMONIA/\n",
        "! pwd"
      ],
      "execution_count": null,
      "outputs": []
    },
    {
      "cell_type": "code",
      "metadata": {
        "id": "-AFYWeZnzP9v"
      },
      "source": [
        "for f in files:\n",
        "  if 'bacteria' in f and bacterial < 2780:\n",
        "    bacterial += 1\n",
        "    shutil.copy(pneumonia_folder+f,'/content/drive/MyDrive/main_project/Bacterial')\n",
        "  elif 'virus' in f and viral < 2780:\n",
        "    viral += 1\n",
        "    shutil.copy(pneumonia_folder+f,'/content/drive/MyDrive/main_project/Viral')\n",
        "print(\"normal: \", normal, \"\\t bacterial: \", bacterial, \"\\t viral: \", viral)"
      ],
      "execution_count": null,
      "outputs": []
    },
    {
      "cell_type": "markdown",
      "metadata": {
        "id": "JaAj25qwz4yI"
      },
      "source": [
        "Copy the 8 bacterial pneumonia images in val folder to main_project/Bacterial"
      ]
    },
    {
      "cell_type": "code",
      "metadata": {
        "id": "Z0xqk8tSzPlT"
      },
      "source": [
        "pneumonia_folder = '/content/drive/MyDrive/paultimothymooney/chest_xray/val/PNEUMONIA/'"
      ],
      "execution_count": null,
      "outputs": []
    },
    {
      "cell_type": "code",
      "metadata": {
        "id": "1vASx0jy11Bk"
      },
      "source": [
        "% cd /content/drive/MyDrive/paultimothymooney/chest_xray/val/PNEUMONIA/\n",
        "! pwd"
      ],
      "execution_count": null,
      "outputs": []
    },
    {
      "cell_type": "code",
      "metadata": {
        "id": "54vYJ8Cj0Nzx"
      },
      "source": [
        "for f in files:\n",
        "  if 'bacteria' in f and bacterial < 2780:\n",
        "    bacterial += 1\n",
        "    shutil.copy(pneumonia_folder+f,'/content/drive/MyDrive/main_project/Bacterial')\n",
        "print(\"normal: \", normal, \"\\t bacterial: \", bacterial, \"\\t viral: \", viral)"
      ],
      "execution_count": null,
      "outputs": []
    }
  ]
}